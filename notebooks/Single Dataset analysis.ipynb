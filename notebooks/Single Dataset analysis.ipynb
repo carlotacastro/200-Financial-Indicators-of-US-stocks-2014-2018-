{
 "cells": [
  {
   "cell_type": "markdown",
   "metadata": {},
   "source": [
    "### Single dataset analysis"
   ]
  },
  {
   "cell_type": "code",
   "execution_count": 4,
   "metadata": {},
   "outputs": [],
   "source": [
    "#from sklearn.datasets import make_regression\n",
    "import numpy as np\n",
    "import pandas as pd\n",
    "import ast  # string of dictionary to dictionary (csv row of column to dictionary)\n",
    "import pickle\n",
    "from collections import Counter\n",
    "#%matplotlib notebook\n",
    "from matplotlib import pyplot as plt\n",
    "import matplotlib as mpl\n",
    "import scipy.stats\n",
    "from numpy import sqrt\n",
    "%matplotlib inline\n",
    "# Visualitzarem només 3 decimals per mostra\n",
    "#pd.set_option('display.float_format', lambda x: '%.3f' % x)\n",
    "\n",
    "import os\n",
    "import warnings\n",
    "import tempfile\n",
    "\n",
    "import random\n",
    "import seaborn as sns\n",
    "\n",
    "from sklearn.ensemble import RandomForestRegressor \n",
    "from sklearn.metrics import mean_absolute_error\n",
    "\n",
    "import time\n",
    "import numpy as np\n",
    "\n",
    "from pandas_datareader import data\n",
    "import matplotlib.pyplot\n",
    "\n",
    "from sklearn.preprocessing import StandardScaler\n",
    "\n",
    "from sklearn.model_selection import train_test_split\n",
    "\n",
    "#imbalanced dataset\n",
    "import tensorflow as tf\n",
    "from tensorflow import keras\n",
    "\n",
    "# basic models\n",
    "from sklearn.linear_model import LogisticRegression\n",
    "from sklearn.tree import DecisionTreeClassifier\n",
    "from sklearn.discriminant_analysis import LinearDiscriminantAnalysis\n",
    "from sklearn.neighbors import KNeighborsClassifier\n",
    "from sklearn.naive_bayes import GaussianNB\n",
    "from sklearn.svm import SVC\n",
    "from sklearn.tree import DecisionTreeClassifier\n",
    "from sklearn.linear_model import SGDClassifier\n",
    "from sklearn.discriminant_analysis import QuadraticDiscriminantAnalysis\n",
    "\n",
    "from sklearn.metrics import accuracy_score\n",
    "from sklearn.metrics import f1_score\n",
    "from sklearn.metrics import average_precision_score\n",
    "from sklearn.metrics import log_loss\n",
    "\n",
    "# ensemble models\n",
    "import xgboost as xgb\n",
    "from xgboost import XGBClassifier\n",
    "import lightgbm as lgb\n",
    "from lightgbm import LGBMClassifier\n",
    "from sklearn.ensemble import GradientBoostingClassifier\n",
    "from sklearn.ensemble import RandomForestClassifier\n",
    "from sklearn.ensemble import AdaBoostClassifier\n",
    "from sklearn.ensemble import ExtraTreesClassifier\n",
    "\n",
    "from tqdm import tqdm\n",
    "from sklearn.model_selection import KFold\n",
    "from sklearn.model_selection import cross_val_score\n",
    "\n",
    "\n",
    "from sklearn.datasets import make_classification\n",
    "\n",
    "from sklearn.preprocessing import StandardScaler\n",
    "\n",
    "# feature selection\n",
    "from sklearn.feature_selection import SelectKBest\n",
    "\n",
    "\n",
    "# model selection\n",
    "from sklearn.model_selection import KFold\n",
    "from sklearn.model_selection import cross_val_score\n",
    "from sklearn.model_selection import GridSearchCV\n",
    "from sklearn.model_selection import RandomizedSearchCV\n",
    "from sklearn.model_selection import RepeatedStratifiedKFold\n",
    "from sklearn.model_selection import StratifiedKFold\n",
    "\n",
    "                                                                                                                                                                                                                                                                                                                                                                                                                                                                                                                                                                                                                                                                                                                                                                                                                                                                                                        \n",
    "# skopt tuning\n",
    "from skopt import BayesSearchCV\n",
    "from skopt.space import Real, Categorical, Integer\n",
    "from lightgbm import LGBMClassifier\n",
    "\n",
    "\n",
    "# metrics\n",
    "from sklearn.metrics import accuracy_score\n",
    "from sklearn.metrics import roc_auc_score\n",
    "from sklearn.metrics import confusion_matrix\n",
    "from sklearn.metrics import classification_report\n",
    "\n",
    "# Funcio per a llegir dades en format csv\n",
    "def load_dataset(path):\n",
    "    dataset = pd.read_csv(path, header=0, delimiter=',')\n",
    "    return dataset"
   ]
  },
  {
   "cell_type": "code",
   "execution_count": 5,
   "metadata": {},
   "outputs": [
    {
     "name": "stdout",
     "output_type": "stream",
     "text": [
      "Dimensionalitat de la BBDD: (3788, 64)\n",
      "Dimensionalitat de les entrades X (3788, 2)\n",
      "Dimensionalitat de l'atribut Y (3788,)\n"
     ]
    }
   ],
   "source": [
    "data2014 = load_dataset('/Users/carlo/Downloads/2014.csv')\n",
    "data_values = data2014.values\n",
    "data2014.dataframeName = '2014.csv'\n",
    "\n",
    "x = data_values[:, :2]\n",
    "y = data_values[:, 2]\n",
    "\n",
    "print(\"Dimensionalitat de la BBDD:\", data2014.shape)\n",
    "print(\"Dimensionalitat de les entrades X\", x.shape)\n",
    "print(\"Dimensionalitat de l'atribut Y\", y.shape)"
   ]
  },
  {
   "cell_type": "code",
   "execution_count": null,
   "metadata": {},
   "outputs": [],
   "source": []
  },
  {
   "cell_type": "code",
   "execution_count": 1,
   "metadata": {},
   "outputs": [],
   "source": [
    "# we choose Random Forest as the best model for single dataset analysis"
   ]
  },
  {
   "cell_type": "code",
   "execution_count": 7,
   "metadata": {},
   "outputs": [],
   "source": [
    "features = ['Revenue', 'EPS', 'EBITDA Margin', 'returnOnEquity', 'Operating Income Growth', 'Sector']\n",
    "X = data2014[features]\n",
    "y = data2014['Class']"
   ]
  },
  {
   "cell_type": "code",
   "execution_count": 8,
   "metadata": {},
   "outputs": [
    {
     "data": {
      "text/html": [
       "<div>\n",
       "<style scoped>\n",
       "    .dataframe tbody tr th:only-of-type {\n",
       "        vertical-align: middle;\n",
       "    }\n",
       "\n",
       "    .dataframe tbody tr th {\n",
       "        vertical-align: top;\n",
       "    }\n",
       "\n",
       "    .dataframe thead th {\n",
       "        text-align: right;\n",
       "    }\n",
       "</style>\n",
       "<table border=\"1\" class=\"dataframe\">\n",
       "  <thead>\n",
       "    <tr style=\"text-align: right;\">\n",
       "      <th></th>\n",
       "      <th>Revenue</th>\n",
       "      <th>EPS</th>\n",
       "      <th>EBITDA Margin</th>\n",
       "      <th>returnOnEquity</th>\n",
       "      <th>Operating Income Growth</th>\n",
       "      <th>Sector_Basic Materials</th>\n",
       "      <th>Sector_Communication Services</th>\n",
       "      <th>Sector_Consumer Cyclical</th>\n",
       "      <th>Sector_Consumer Defensive</th>\n",
       "      <th>Sector_Energy</th>\n",
       "      <th>Sector_Financial Services</th>\n",
       "      <th>Sector_Healthcare</th>\n",
       "      <th>Sector_Industrials</th>\n",
       "      <th>Sector_Real Estate</th>\n",
       "      <th>Sector_Technology</th>\n",
       "      <th>Sector_Utilities</th>\n",
       "    </tr>\n",
       "  </thead>\n",
       "  <tbody>\n",
       "    <tr>\n",
       "      <th>0</th>\n",
       "      <td>3.991236e+10</td>\n",
       "      <td>4.1900</td>\n",
       "      <td>0.2470</td>\n",
       "      <td>0.1664</td>\n",
       "      <td>0.0067</td>\n",
       "      <td>0</td>\n",
       "      <td>0</td>\n",
       "      <td>0</td>\n",
       "      <td>1</td>\n",
       "      <td>0</td>\n",
       "      <td>0</td>\n",
       "      <td>0</td>\n",
       "      <td>0</td>\n",
       "      <td>0</td>\n",
       "      <td>0</td>\n",
       "      <td>0</td>\n",
       "    </tr>\n",
       "    <tr>\n",
       "      <th>1</th>\n",
       "      <td>3.734148e+09</td>\n",
       "      <td>0.2396</td>\n",
       "      <td>0.0107</td>\n",
       "      <td>0.3294</td>\n",
       "      <td>1.9463</td>\n",
       "      <td>0</td>\n",
       "      <td>0</td>\n",
       "      <td>0</td>\n",
       "      <td>1</td>\n",
       "      <td>0</td>\n",
       "      <td>0</td>\n",
       "      <td>0</td>\n",
       "      <td>0</td>\n",
       "      <td>0</td>\n",
       "      <td>0</td>\n",
       "      <td>0</td>\n",
       "    </tr>\n",
       "    <tr>\n",
       "      <th>2</th>\n",
       "      <td>3.991236e+10</td>\n",
       "      <td>1.4700</td>\n",
       "      <td>0.0450</td>\n",
       "      <td>0.2821</td>\n",
       "      <td>-0.0141</td>\n",
       "      <td>0</td>\n",
       "      <td>0</td>\n",
       "      <td>0</td>\n",
       "      <td>1</td>\n",
       "      <td>0</td>\n",
       "      <td>0</td>\n",
       "      <td>0</td>\n",
       "      <td>0</td>\n",
       "      <td>0</td>\n",
       "      <td>0</td>\n",
       "      <td>0</td>\n",
       "    </tr>\n",
       "    <tr>\n",
       "      <th>3</th>\n",
       "      <td>2.552641e+10</td>\n",
       "      <td>4.6000</td>\n",
       "      <td>0.0420</td>\n",
       "      <td>-0.1180</td>\n",
       "      <td>0.1113</td>\n",
       "      <td>0</td>\n",
       "      <td>0</td>\n",
       "      <td>0</td>\n",
       "      <td>1</td>\n",
       "      <td>0</td>\n",
       "      <td>0</td>\n",
       "      <td>0</td>\n",
       "      <td>0</td>\n",
       "      <td>0</td>\n",
       "      <td>0</td>\n",
       "      <td>0</td>\n",
       "    </tr>\n",
       "    <tr>\n",
       "      <th>4</th>\n",
       "      <td>1.790960e+10</td>\n",
       "      <td>2.9000</td>\n",
       "      <td>0.2010</td>\n",
       "      <td>0.2792</td>\n",
       "      <td>0.0370</td>\n",
       "      <td>0</td>\n",
       "      <td>0</td>\n",
       "      <td>0</td>\n",
       "      <td>1</td>\n",
       "      <td>0</td>\n",
       "      <td>0</td>\n",
       "      <td>0</td>\n",
       "      <td>0</td>\n",
       "      <td>0</td>\n",
       "      <td>0</td>\n",
       "      <td>0</td>\n",
       "    </tr>\n",
       "  </tbody>\n",
       "</table>\n",
       "</div>"
      ],
      "text/plain": [
       "        Revenue     EPS  EBITDA Margin  returnOnEquity  \\\n",
       "0  3.991236e+10  4.1900         0.2470          0.1664   \n",
       "1  3.734148e+09  0.2396         0.0107          0.3294   \n",
       "2  3.991236e+10  1.4700         0.0450          0.2821   \n",
       "3  2.552641e+10  4.6000         0.0420         -0.1180   \n",
       "4  1.790960e+10  2.9000         0.2010          0.2792   \n",
       "\n",
       "   Operating Income Growth  Sector_Basic Materials  \\\n",
       "0                   0.0067                       0   \n",
       "1                   1.9463                       0   \n",
       "2                  -0.0141                       0   \n",
       "3                   0.1113                       0   \n",
       "4                   0.0370                       0   \n",
       "\n",
       "   Sector_Communication Services  Sector_Consumer Cyclical  \\\n",
       "0                              0                         0   \n",
       "1                              0                         0   \n",
       "2                              0                         0   \n",
       "3                              0                         0   \n",
       "4                              0                         0   \n",
       "\n",
       "   Sector_Consumer Defensive  Sector_Energy  Sector_Financial Services  \\\n",
       "0                          1              0                          0   \n",
       "1                          1              0                          0   \n",
       "2                          1              0                          0   \n",
       "3                          1              0                          0   \n",
       "4                          1              0                          0   \n",
       "\n",
       "   Sector_Healthcare  Sector_Industrials  Sector_Real Estate  \\\n",
       "0                  0                   0                   0   \n",
       "1                  0                   0                   0   \n",
       "2                  0                   0                   0   \n",
       "3                  0                   0                   0   \n",
       "4                  0                   0                   0   \n",
       "\n",
       "   Sector_Technology  Sector_Utilities  \n",
       "0                  0                 0  \n",
       "1                  0                 0  \n",
       "2                  0                 0  \n",
       "3                  0                 0  \n",
       "4                  0                 0  "
      ]
     },
     "execution_count": 8,
     "metadata": {},
     "output_type": "execute_result"
    }
   ],
   "source": [
    "one_hot_X = pd.get_dummies(X)\n",
    "one_hot_X.replace([np.inf, -np.inf], np.nan)\n",
    "one_hot_X.fillna(0)\n",
    "one_hot_X.head()"
   ]
  },
  {
   "cell_type": "code",
   "execution_count": 9,
   "metadata": {},
   "outputs": [
    {
     "name": "stdout",
     "output_type": "stream",
     "text": [
      "[0 0 1 ... 0 1 0]\n"
     ]
    }
   ],
   "source": [
    "y=y.values.ravel()\n",
    "print(y)"
   ]
  },
  {
   "cell_type": "code",
   "execution_count": 10,
   "metadata": {},
   "outputs": [
    {
     "data": {
      "text/plain": [
       "((2841, 16), (947, 16))"
      ]
     },
     "execution_count": 10,
     "metadata": {},
     "output_type": "execute_result"
    }
   ],
   "source": [
    "X_train, X_test, y_train, y_test = train_test_split(one_hot_X, y, test_size=0.25, random_state=42)\n",
    "\n",
    "X_train.shape, X_test.shape"
   ]
  },
  {
   "cell_type": "code",
   "execution_count": null,
   "metadata": {},
   "outputs": [],
   "source": [
    "# X_train.drop('2015 PRICE VAR [%]', axis=1)\n",
    "# X_test.drop('2015 PRICE VAR [%]', axis=1)"
   ]
  },
  {
   "cell_type": "code",
   "execution_count": 11,
   "metadata": {},
   "outputs": [],
   "source": [
    "rf_model = forest_model = RandomForestRegressor(random_state=1)"
   ]
  },
  {
   "cell_type": "code",
   "execution_count": 12,
   "metadata": {},
   "outputs": [
    {
     "data": {
      "text/plain": [
       "RandomForestRegressor(random_state=1)"
      ]
     },
     "execution_count": 12,
     "metadata": {},
     "output_type": "execute_result"
    }
   ],
   "source": [
    "rf_model.fit(X_train, y_train)"
   ]
  },
  {
   "cell_type": "code",
   "execution_count": 13,
   "metadata": {},
   "outputs": [
    {
     "name": "stdout",
     "output_type": "stream",
     "text": [
      "Validation MAE for Random Forest Model: 0.43602531944784373\n"
     ]
    }
   ],
   "source": [
    "rf_val_mae = mean_absolute_error(y_test, rf_model.predict(X_test))\n",
    "\n",
    "print(\"Validation MAE for Random Forest Model: {}\".format(rf_val_mae))"
   ]
  },
  {
   "cell_type": "code",
   "execution_count": 14,
   "metadata": {},
   "outputs": [
    {
     "name": "stdout",
     "output_type": "stream",
     "text": [
      "[0.44       0.16       0.5        0.41       0.54       0.31\n",
      " 0.55       0.53       0.49       0.41       0.39       0.74\n",
      " 0.81       0.47       0.74       0.46       0.44       0.37\n",
      " 0.02       0.36       0.49       0.72       0.37       0.53\n",
      " 0.34       0.93       0.02       0.42       0.29       0.42\n",
      " 0.92       0.28       0.38       0.11       0.47       0.11\n",
      " 0.23       0.53       0.09       0.46       0.6        0.48\n",
      " 0.32       0.43       0.57       0.79       0.33       0.48\n",
      " 0.28       0.45       0.25       0.09       0.44       0.45735043\n",
      " 0.53       0.43       0.58       0.15       0.51       0.2\n",
      " 0.74       0.17       0.12       0.63       0.36       0.31\n",
      " 0.71       0.22       0.52       0.27       0.26       0.26\n",
      " 0.75       0.18666667 0.09691514 0.77       0.55       0.26\n",
      " 0.34       0.31       0.44       0.84       0.09       0.28\n",
      " 0.44       0.07       0.6        0.08       0.2        0.29\n",
      " 0.5        0.2        0.818      0.21       0.13       0.23\n",
      " 0.52       0.32       0.14       0.6        0.19       0.28\n",
      " 0.83       0.36       0.08       0.6        0.58       0.55\n",
      " 0.64       0.3        0.3        0.16       0.53       0.4\n",
      " 0.46       0.34       0.04       0.33       0.15       0.58\n",
      " 0.53       0.45       0.44       0.81       0.37       0.53\n",
      " 0.64       0.58       0.17       0.25       0.46       0.59\n",
      " 0.6        0.05       0.6        0.74       0.58       0.34\n",
      " 0.37       0.8        0.73075657 0.7        0.1        0.67\n",
      " 0.64       0.69       0.42       0.67       0.33       0.3\n",
      " 0.34       0.5        0.29       0.23       0.41       0.41\n",
      " 0.39       0.4        0.36       0.41       0.54       0.32\n",
      " 0.34       0.22       0.01       0.54       0.11       0.06\n",
      " 0.41       0.46       0.42       0.39       0.41       0.73\n",
      " 0.32       0.69       0.39       0.27       0.4        0.41\n",
      " 0.4        0.79       0.67       0.71       0.63166667 0.83\n",
      " 0.42       0.53       0.2        0.41       0.29       0.3\n",
      " 0.58       0.4        0.6        0.19       0.38       0.26546154\n",
      " 0.45       0.63       0.21       0.54       0.4        0.42\n",
      " 0.38       0.18       0.45       0.3        0.33       0.71\n",
      " 0.45       0.32       0.43       0.31       0.12       0.47\n",
      " 0.28       0.8        0.75       0.71       0.49       0.48\n",
      " 0.42       0.24       0.47       0.07       0.41       0.45\n",
      " 0.85       0.49       0.37       0.86       0.4325     0.52\n",
      " 0.31       0.06       0.1        0.46       0.2        0.2\n",
      " 0.38       0.32833333 0.46       0.65       0.54       0.42\n",
      " 0.31       0.67       0.24       0.85       0.61       0.42\n",
      " 0.35       0.4        0.21       0.09       0.34       0.04\n",
      " 0.33       0.45       0.9        0.62       0.36       0.42\n",
      " 0.4        0.6        0.3        0.08       0.55       0.57\n",
      " 0.3        0.44766667 0.63       0.74932304 0.78       0.34\n",
      " 0.36       0.29       0.36       0.24       0.53688259 0.27\n",
      " 0.36       0.35       0.32833333 0.37       0.71       0.12\n",
      " 0.01       0.28       0.5        0.55       0.48       0.57\n",
      " 0.47       0.37       0.29       0.38       0.56       0.5\n",
      " 0.59       0.29       0.35       0.55       0.31       0.26\n",
      " 0.56       0.42       0.69       0.6        0.12       0.25\n",
      " 0.05       0.88       0.53       0.07       0.18       0.43\n",
      " 0.53       0.42       0.31       0.2        0.67       0.69\n",
      " 0.78       0.33       0.58       0.16       0.48       0.27\n",
      " 0.71       0.19       0.35       0.59       0.17       0.41\n",
      " 0.5406537  0.89       0.53       0.62       0.51       0.14\n",
      " 0.68       0.26       0.31       0.8        0.99       0.36\n",
      " 0.45       0.         0.31       0.43       0.74       0.32\n",
      " 0.34       0.28       0.48       0.25       0.32       0.55\n",
      " 0.67       0.81       0.05       0.48333333 0.62       0.32\n",
      " 0.16       0.93       0.62       0.72       0.33       0.79\n",
      " 0.43       0.7        0.19       0.36       0.35       0.33\n",
      " 0.16       0.21       0.19       0.13       0.34       0.3\n",
      " 0.41       0.47       0.42       0.08       0.56       0.\n",
      " 0.4        0.         0.72       0.13       0.42       0.32\n",
      " 0.65       0.98       0.51       0.44       0.60425641 0.47\n",
      " 0.32       0.03       0.38       0.58       0.27       0.75\n",
      " 0.37       0.66       0.35       0.5        0.55       0.11\n",
      " 0.23       0.6        0.04       0.47       0.6        0.28\n",
      " 0.46       0.53       0.65       0.41       0.64       0.29\n",
      " 0.39       0.22       0.56       0.5        0.74       0.5\n",
      " 0.49       0.39       0.45       0.24       0.61       0.25\n",
      " 0.28       0.66       0.39       0.44       0.77       0.42\n",
      " 0.54       0.55       0.44       0.67       0.33       0.86\n",
      " 0.08       0.84       0.51       0.83       0.18       0.31\n",
      " 0.68       0.03       0.71       0.42       0.24       0.62\n",
      " 0.53       0.14       0.39       0.65       0.21       0.56\n",
      " 0.545      0.45       0.42       0.86       0.58       0.28\n",
      " 0.41       0.66       0.05       0.37       0.53       0.63\n",
      " 0.18       0.51       0.06       0.67       0.77       0.37\n",
      " 0.44       0.65       0.51       0.38       0.21       0.89\n",
      " 0.39       0.52       0.37       0.38       0.3        0.44\n",
      " 0.68       0.46       0.18       0.         0.35       0.37\n",
      " 0.75       0.56       0.36       0.37       0.46       0.46\n",
      " 0.35       0.47       0.11       0.55       0.68       0.43\n",
      " 0.68       0.57       0.16       0.64       0.22       0.14\n",
      " 0.66       0.35       0.4        0.42       0.62       0.26\n",
      " 0.36       0.02       0.59       0.14       0.42083333 0.48\n",
      " 0.05       0.52       0.35       0.64       0.10333333 0.42\n",
      " 0.41       0.35       0.24       0.52       0.477      0.11\n",
      " 0.57       0.287      0.59       0.44       0.32       0.42\n",
      " 0.41       0.56       0.14       0.21       0.7        0.43\n",
      " 0.33       0.22       0.43       0.47       0.7        0.27\n",
      " 0.73       0.62       0.2        0.22       0.46       0.29\n",
      " 0.06       0.42       0.42       0.47       0.84       0.21\n",
      " 0.30769231 0.88       0.46       0.856      0.21       0.45\n",
      " 0.52       0.87       0.87       0.35       0.42       0.17\n",
      " 0.23       0.47       0.42       0.89       0.18       0.47\n",
      " 0.74       0.2        0.39       0.03       0.37       0.7\n",
      " 0.28       0.42       0.34       0.03       0.18       0.4\n",
      " 0.5        0.23       0.69       0.15       0.25       0.23\n",
      " 0.75       0.26       0.52       0.62       0.52       0.33\n",
      " 0.24       0.67       0.42       0.08       0.31       0.44\n",
      " 0.26       0.08       0.76       0.41       0.29       0.41\n",
      " 0.29       0.62       0.16       0.61       0.33       0.35\n",
      " 0.62       0.34       0.87       0.15       0.59       0.24\n",
      " 0.91       0.25       0.69       0.28       0.29       0.78\n",
      " 0.45       0.13       0.45       0.38       0.97       0.73\n",
      " 0.86       0.41       0.63       0.65       0.68       0.48\n",
      " 0.62       0.68       0.25       0.43       0.76       0.\n",
      " 0.15       0.47       0.8        0.42       0.87       0.68\n",
      " 0.58       0.33       0.44       0.03       0.55       0.3\n",
      " 0.66       0.85       0.38       0.09       0.31       0.5\n",
      " 0.32       0.32       0.66       0.23       0.59       0.63\n",
      " 0.63       0.06       0.8        0.01       0.35       0.49\n",
      " 0.11       0.75       0.56       0.2        0.4        0.51\n",
      " 0.52       0.33       0.73       0.54       0.75       0.42\n",
      " 0.72       0.07       0.1        0.3        0.51       0.43\n",
      " 0.         0.24       0.47       0.64       0.85       0.57\n",
      " 0.6        0.33       0.35       0.64       0.37       0.45\n",
      " 0.32       0.48       0.8        0.4        0.43       0.46\n",
      " 0.44       0.54       0.5        0.11       0.39       0.59\n",
      " 0.14       0.20078205 0.1        0.06       0.51       0.3\n",
      " 0.39       0.49       0.62       0.53       0.5        0.32\n",
      " 0.59       0.63       0.48       0.64       0.49       0.67\n",
      " 0.32       0.25       0.48       0.52       0.26       0.08\n",
      " 0.48       0.33       0.         0.32       0.32       0.47\n",
      " 0.24       0.83       0.7        0.25       0.48       0.41\n",
      " 0.51       0.38       0.43       0.59       0.01       0.67\n",
      " 0.37       0.29       0.61       0.25       0.23       0.76\n",
      " 0.38       0.49       0.38       0.806      0.         0.35\n",
      " 0.49       0.51       0.42       0.37       0.47       0.31\n",
      " 0.49       0.17       0.16       0.42       0.64       0.68\n",
      " 0.53483333 0.58       0.24       0.29       0.64       0.85\n",
      " 0.59       0.56       0.45       0.3        0.39433333 0.22\n",
      " 0.37       0.31       0.18       0.63       0.5        0.57\n",
      " 0.84069109 0.27       0.14       0.37       0.79       0.48\n",
      " 0.64       0.36       0.55       0.06       0.47       0.51\n",
      " 0.39       0.59       0.47       0.52083333 0.46       0.75\n",
      " 0.4        0.56       0.28       0.05       0.43       0.6\n",
      " 0.07       0.53       0.62       0.62       0.81       0.47\n",
      " 0.43       0.42       0.23       0.67       0.5425     0.53\n",
      " 0.49       0.57       0.54       0.53       0.54       0.\n",
      " 0.42       0.61       0.57       0.14       0.05       0.03\n",
      " 0.57       0.01       0.7        0.12       0.47       0.55\n",
      " 0.46       0.         0.61       0.08       0.91       0.66\n",
      " 0.55       0.59       0.14       0.4        0.44       0.37\n",
      " 0.64       0.48       0.28       0.36       0.17       0.42\n",
      " 0.53       0.6        0.06       0.3        0.64       0.59\n",
      " 0.56       0.28       0.02       0.5        0.32       0.32\n",
      " 0.46       0.13       0.259375   0.55846154 0.32       0.38\n",
      " 0.48       0.55       1.         0.34       0.18       0.62\n",
      " 0.36783333 0.36       0.62       0.32       0.47       0.3\n",
      " 0.81       0.63       0.23       0.49       0.59       0.65\n",
      " 0.39       0.7        0.82       0.08       0.4        0.65\n",
      " 0.44       0.27       0.53       0.85       0.43       0.17\n",
      " 0.33       0.34       0.5        0.66       0.38      ]\n"
     ]
    }
   ],
   "source": [
    "print(rf_model.predict(X_test))"
   ]
  },
  {
   "cell_type": "code",
   "execution_count": 15,
   "metadata": {},
   "outputs": [
    {
     "name": "stdout",
     "output_type": "stream",
     "text": [
      "           Revenue     EPS  EBITDA Margin  returnOnEquity  \\\n",
      "1580  1.347007e+10  3.0600        0.06000          0.4295   \n",
      "2256  1.042190e+08  0.3800        0.64700          0.1025   \n",
      "263   2.289588e+10  0.9552        0.10530          0.0572   \n",
      "2922  9.811350e+08  0.6500        0.04900          0.0167   \n",
      "1697  1.689200e+09  0.8100        0.14400          0.1345   \n",
      "...            ...     ...            ...             ...   \n",
      "1234  7.485380e+08 -2.8700        0.08000          0.0414   \n",
      "227   3.573732e+09  2.0300        0.05600          0.1625   \n",
      "812   5.414000e+06 -0.7900       -0.29600         -0.2355   \n",
      "840   5.643770e+05 -1.7900       -7.75597         -0.3952   \n",
      "555   1.750000e+05 -1.2500       -7.75597         -0.3520   \n",
      "\n",
      "      Operating Income Growth  Sector_Basic Materials  \\\n",
      "1580                 0.096300                       0   \n",
      "2256                 1.223800                       0   \n",
      "263                  3.563666                       1   \n",
      "2922                -0.512600                       0   \n",
      "1697                 0.190700                       0   \n",
      "...                       ...                     ...   \n",
      "1234                 0.297800                       0   \n",
      "227                  0.473800                       1   \n",
      "812                 -0.205000                       0   \n",
      "840                 -0.095900                       0   \n",
      "555                 -1.197100                       0   \n",
      "\n",
      "      Sector_Communication Services  Sector_Consumer Cyclical  \\\n",
      "1580                              0                         0   \n",
      "2256                              0                         0   \n",
      "263                               0                         0   \n",
      "2922                              0                         0   \n",
      "1697                              0                         0   \n",
      "...                             ...                       ...   \n",
      "1234                              0                         1   \n",
      "227                               0                         0   \n",
      "812                               0                         0   \n",
      "840                               0                         0   \n",
      "555                               0                         0   \n",
      "\n",
      "      Sector_Consumer Defensive  Sector_Energy  Sector_Financial Services  \\\n",
      "1580                          0              0                          0   \n",
      "2256                          0              1                          0   \n",
      "263                           0              0                          0   \n",
      "2922                          0              0                          1   \n",
      "1697                          0              0                          0   \n",
      "...                         ...            ...                        ...   \n",
      "1234                          0              0                          0   \n",
      "227                           0              0                          0   \n",
      "812                           0              0                          0   \n",
      "840                           0              0                          0   \n",
      "555                           0              0                          0   \n",
      "\n",
      "      Sector_Healthcare  Sector_Industrials  Sector_Real Estate  \\\n",
      "1580                  0                   1                   0   \n",
      "2256                  0                   0                   0   \n",
      "263                   0                   0                   0   \n",
      "2922                  0                   0                   0   \n",
      "1697                  0                   1                   0   \n",
      "...                 ...                 ...                 ...   \n",
      "1234                  0                   0                   0   \n",
      "227                   0                   0                   0   \n",
      "812                   1                   0                   0   \n",
      "840                   1                   0                   0   \n",
      "555                   1                   0                   0   \n",
      "\n",
      "      Sector_Technology  Sector_Utilities  \n",
      "1580                  0                 0  \n",
      "2256                  0                 0  \n",
      "263                   0                 0  \n",
      "2922                  0                 0  \n",
      "1697                  0                 0  \n",
      "...                 ...               ...  \n",
      "1234                  0                 0  \n",
      "227                   0                 0  \n",
      "812                   0                 0  \n",
      "840                   0                 0  \n",
      "555                   0                 0  \n",
      "\n",
      "[947 rows x 16 columns]\n"
     ]
    }
   ],
   "source": [
    "results = rf_model.predict(X_test)\n",
    "print(X_test)"
   ]
  },
  {
   "cell_type": "code",
   "execution_count": 16,
   "metadata": {},
   "outputs": [
    {
     "data": {
      "text/plain": [
       "((2841, 16), (947, 16))"
      ]
     },
     "execution_count": 16,
     "metadata": {},
     "output_type": "execute_result"
    }
   ],
   "source": [
    "X_train.shape, X_test.shape"
   ]
  },
  {
   "cell_type": "code",
   "execution_count": 17,
   "metadata": {},
   "outputs": [],
   "source": [
    "feature_names = [f\"feature {i}\" for i in range(X_train.shape[1])]"
   ]
  },
  {
   "cell_type": "code",
   "execution_count": 18,
   "metadata": {},
   "outputs": [
    {
     "data": {
      "text/plain": [
       "RandomForestClassifier(random_state=0)"
      ]
     },
     "execution_count": 18,
     "metadata": {},
     "output_type": "execute_result"
    }
   ],
   "source": [
    "forest = RandomForestClassifier(random_state=0)\n",
    "forest.fit(X_train, y_train)"
   ]
  },
  {
   "cell_type": "code",
   "execution_count": 19,
   "metadata": {},
   "outputs": [],
   "source": [
    "start_time = time.time()\n",
    "importances = forest.feature_importances_\n",
    "std = np.std([tree.feature_importances_ for tree in forest.estimators_], axis=0)\n",
    "elapsed_time = time.time() - start_time"
   ]
  },
  {
   "cell_type": "code",
   "execution_count": 20,
   "metadata": {},
   "outputs": [
    {
     "data": {
      "image/png": "[encoded data removed]",
      "text/plain": [
       "<Figure size 432x288 with 1 Axes>"
      ]
     },
     "metadata": {
      "needs_background": "light"
     },
     "output_type": "display_data"
    }
   ],
   "source": [
    "forest_importances = pd.Series(importances, index=feature_names)\n",
    "\n",
    "fig, ax = plt.subplots()\n",
    "forest_importances.plot.bar(yerr=std, ax=ax)\n",
    "ax.set_title(\"Feature importances using MDI\")\n",
    "ax.set_ylabel(\"Mean decrease in impurity\")\n",
    "fig.tight_layout()"
   ]
  },
  {
   "cell_type": "code",
   "execution_count": null,
   "metadata": {},
   "outputs": [],
   "source": [
    "## we check the models "
   ]
  },
  {
   "cell_type": "code",
   "execution_count": 21,
   "metadata": {},
   "outputs": [
    {
     "name": "stdout",
     "output_type": "stream",
     "text": [
      "==============================\n",
      "LogisticRegression\n",
      "****Results****\n",
      "Accuracy: 59.3453%\n",
      "Log Loss: 0.6904395852006908\n",
      "==============================\n",
      "LogisticRegression\n",
      "****Results****\n",
      "Accuracy: 59.3453%\n",
      "Log Loss: 0.6904395852006908\n",
      "==============================\n",
      "KNeighborsClassifier\n",
      "****Results****\n",
      "Accuracy: 51.2144%\n",
      "Log Loss: 4.958961971664185\n",
      "==============================\n",
      "SVC\n",
      "****Results****\n",
      "Accuracy: 59.3453%\n",
      "Log Loss: 0.6769520228676437\n",
      "==============================\n",
      "DecisionTreeClassifier\n",
      "****Results****\n",
      "Accuracy: 55.0158%\n",
      "Log Loss: 15.502163235221703\n",
      "==============================\n",
      "RandomForestClassifier\n",
      "****Results****\n",
      "Accuracy: 64.0971%\n",
      "Log Loss: 0.6493248073330155\n",
      "==============================\n",
      "AdaBoostClassifier\n",
      "****Results****\n",
      "Accuracy: 61.6684%\n",
      "Log Loss: 0.690290780616292\n",
      "==============================\n",
      "GradientBoostingClassifier\n",
      "****Results****\n",
      "Accuracy: 63.2524%\n",
      "Log Loss: 0.6361119436636259\n",
      "==============================\n",
      "GaussianNB\n",
      "****Results****\n",
      "Accuracy: 58.6061%\n",
      "Log Loss: 0.6843712184399379\n",
      "==============================\n",
      "LinearDiscriminantAnalysis\n",
      "****Results****\n",
      "Accuracy: 62.7244%\n",
      "Log Loss: 0.6419351980500961\n",
      "==============================\n",
      "QuadraticDiscriminantAnalysis\n",
      "****Results****\n",
      "Accuracy: 56.1774%\n",
      "Log Loss: 1.9873641605067311\n",
      "==============================\n"
     ]
    },
    {
     "name": "stderr",
     "output_type": "stream",
     "text": [
      "C:\\Users\\carlo\\Anaconda3\\lib\\site-packages\\sklearn\\discriminant_analysis.py:878: UserWarning: Variables are collinear\n",
      "  warnings.warn(\"Variables are collinear\")\n"
     ]
    }
   ],
   "source": [
    "classifiers = [\n",
    "    LogisticRegression(),\n",
    "    LogisticRegression(penalty = 'l2'),\n",
    "    KNeighborsClassifier(3),\n",
    "    SVC(kernel=\"rbf\", C=0.025, probability=True),\n",
    "    DecisionTreeClassifier(),\n",
    "    RandomForestClassifier(),\n",
    "    AdaBoostClassifier(),\n",
    "    GradientBoostingClassifier(),\n",
    "    GaussianNB(),\n",
    "    LinearDiscriminantAnalysis(),\n",
    "    QuadraticDiscriminantAnalysis()]\n",
    "\n",
    "# Logging for Visual Comparison\n",
    "log_cols=[\"Classifier\", \"Accuracy\", \"Log Loss\"]\n",
    "log = pd.DataFrame(columns=log_cols)\n",
    "\n",
    "for clf in classifiers:\n",
    "    clf.fit(X_train, y_train)\n",
    "    name = clf.__class__.__name__\n",
    "    \n",
    "    print(\"=\"*30)\n",
    "    print(name)\n",
    "    \n",
    "    print('****Results****')\n",
    "    train_predictions = clf.predict(X_test)\n",
    "    acc = accuracy_score(y_test, train_predictions)\n",
    "    print(\"Accuracy: {:.4%}\".format(acc))\n",
    "    \n",
    "    train_predictions = clf.predict_proba(X_test)\n",
    "    ll = log_loss(y_test, train_predictions)\n",
    "    print(\"Log Loss: {}\".format(ll))\n",
    "    \n",
    "    log_entry = pd.DataFrame([[name, acc*100, ll]], columns=log_cols)\n",
    "    log = log.append(log_entry)\n",
    "    \n",
    "print(\"=\"*30)"
   ]
  },
  {
   "cell_type": "code",
   "execution_count": 22,
   "metadata": {},
   "outputs": [
    {
     "data": {
      "image/png": "[encoded data removed]",
      "text/plain": [
       "<Figure size 432x288 with 1 Axes>"
      ]
     },
     "metadata": {
      "needs_background": "light"
     },
     "output_type": "display_data"
    },
    {
     "data": {
      "image/png": "[encoded data removed]",
      "text/plain": [
       "<Figure size 432x288 with 1 Axes>"
      ]
     },
     "metadata": {
      "needs_background": "light"
     },
     "output_type": "display_data"
    }
   ],
   "source": [
    "sns.set_color_codes(\"muted\")\n",
    "sns.barplot(x='Accuracy', y='Classifier', data=log, color=\"b\")\n",
    "\n",
    "plt.xlabel('Accuracy %')\n",
    "plt.title('Classifier Accuracy')\n",
    "plt.show()\n",
    "\n",
    "sns.set_color_codes(\"muted\")\n",
    "sns.barplot(x='Log Loss', y='Classifier', data=log, color=\"g\")\n",
    "\n",
    "plt.xlabel('Log Loss')\n",
    "plt.title('Classifier Log Loss')\n",
    "plt.show()"
   ]
  },
  {
   "cell_type": "code",
   "execution_count": 23,
   "metadata": {},
   "outputs": [
    {
     "name": "stdout",
     "output_type": "stream",
     "text": [
      "Feature ranking:\n",
      "1. feature 1 (0.179668)\n",
      "2. feature 4 (0.177996)\n",
      "3. feature 3 (0.176345)\n",
      "4. feature 0 (0.172608)\n",
      "5. feature 2 (0.165531)\n",
      "6. feature 10 (0.025671)\n"
     ]
    }
   ],
   "source": [
    "forest = RandomForestClassifier()\n",
    "forest.fit(X_train, y_train)\n",
    "\n",
    "importances = forest.feature_importances_\n",
    "std = np.std([tree.feature_importances_ for tree in forest.estimators_],\n",
    "             axis=0)\n",
    "indices = np.argsort(importances)[::-1]\n",
    "\n",
    "# Print the feature ranking\n",
    "print(\"Feature ranking:\")\n",
    "\n",
    "for f in range(X.shape[1]):\n",
    "    print(\"%d. feature %d (%f)\" % (f + 1, indices[f], importances[indices[f]]))"
   ]
  },
  {
   "cell_type": "markdown",
   "metadata": {},
   "source": [
    "### Predictions"
   ]
  },
  {
   "cell_type": "code",
   "execution_count": 25,
   "metadata": {},
   "outputs": [
    {
     "name": "stdout",
     "output_type": "stream",
     "text": [
      "Accuracy of the GBM on test set: 0.634\n",
      "              precision    recall  f1-score   support\n",
      "\n",
      "           0       0.67      0.75      0.71       562\n",
      "           1       0.56      0.46      0.50       385\n",
      "\n",
      "    accuracy                           0.63       947\n",
      "   macro avg       0.62      0.61      0.61       947\n",
      "weighted avg       0.63      0.63      0.63       947\n",
      "\n"
     ]
    },
    {
     "data": {
      "image/png": "[encoded data removed]",
      "text/plain": [
       "<Figure size 432x288 with 1 Axes>"
      ]
     },
     "metadata": {
      "needs_background": "light"
     },
     "output_type": "display_data"
    }
   ],
   "source": [
    "model=RandomForestClassifier()\n",
    "model.fit(X_train,y_train)\n",
    "predictors=list(X_train)\n",
    "feat_imp = pd.Series(model.feature_importances_, predictors).sort_values(ascending=False)\n",
    "feat_imp.plot(kind='bar', title='Importance of Features')\n",
    "plt.ylabel('Feature Importance Score')\n",
    "print('Accuracy of the GBM on test set: {:.3f}'.format(model.score(X_test, y_test)))\n",
    "pred=model.predict(X_test)\n",
    "print(classification_report(y_test, pred))"
   ]
  },
  {
   "cell_type": "code",
   "execution_count": 26,
   "metadata": {},
   "outputs": [
    {
     "name": "stdout",
     "output_type": "stream",
     "text": [
      "0.6548874612931552\n"
     ]
    }
   ],
   "source": [
    "y_pred_prob = model.predict_proba(X_test)\n",
    "print(roc_auc_score(y_test, y_pred_prob[:,1]))"
   ]
  },
  {
   "cell_type": "code",
   "execution_count": null,
   "metadata": {},
   "outputs": [],
   "source": [
    "##Good prediction, better than random"
   ]
  },
  {
   "cell_type": "code",
   "execution_count": null,
   "metadata": {},
   "outputs": [],
   "source": [
    "#Hyperparameter search takes too long with RandomForest()"
   ]
  }
 ],
 "metadata": {
  "kernelspec": {
   "display_name": "Python 3 (ipykernel)",
   "language": "python",
   "name": "python3"
  },
  "language_info": {
   "codemirror_mode": {
    "name": "ipython",
    "version": 3
   },
   "file_extension": ".py",
   "mimetype": "text/x-python",
   "name": "python",
   "nbconvert_exporter": "python",
   "pygments_lexer": "ipython3",
   "version": "3.7.6"
  }
 },
 "nbformat": 4,
 "nbformat_minor": 4
}
